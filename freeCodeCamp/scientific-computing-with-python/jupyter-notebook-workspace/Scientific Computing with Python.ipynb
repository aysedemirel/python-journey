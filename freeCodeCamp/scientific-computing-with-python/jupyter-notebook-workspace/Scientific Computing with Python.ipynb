{
 "cells": [
  {
   "cell_type": "code",
   "execution_count": null,
   "id": "referenced-version",
   "metadata": {},
   "outputs": [],
   "source": []
  },
  {
   "cell_type": "code",
   "execution_count": 21,
   "id": "lovely-rugby",
   "metadata": {},
   "outputs": [
    {
     "name": "stdout",
     "output_type": "stream",
     "text": [
      "<class 'int'> <class 'str'>\n"
     ]
    }
   ],
   "source": [
    "number = 5\n",
    "text = \"sample text\"\n",
    "\n",
    "print(type(number),type(text))"
   ]
  },
  {
   "cell_type": "code",
   "execution_count": 5,
   "id": "civil-notice",
   "metadata": {},
   "outputs": [
    {
     "name": "stdout",
     "output_type": "stream",
     "text": [
      "Please enter a text : text\n"
     ]
    }
   ],
   "source": [
    "input_text = input(\"Please enter a text : \")"
   ]
  },
  {
   "cell_type": "code",
   "execution_count": 6,
   "id": "greater-dutch",
   "metadata": {},
   "outputs": [
    {
     "name": "stdout",
     "output_type": "stream",
     "text": [
      "number:  4\n"
     ]
    }
   ],
   "source": [
    "text_number = \"4\"\n",
    "number = int(text_number)\n",
    "print(\"number: \",number)"
   ]
  },
  {
   "cell_type": "code",
   "execution_count": 8,
   "id": "published-macro",
   "metadata": {},
   "outputs": [
    {
     "name": "stdout",
     "output_type": "stream",
     "text": [
      "2\n",
      "3\n",
      "4\n",
      "end of for\n"
     ]
    }
   ],
   "source": [
    "for i in [2,3,4]:\n",
    "   print(i)\n",
    "print(\"end of for\")"
   ]
  },
  {
   "cell_type": "code",
   "execution_count": 9,
   "id": "brazilian-spelling",
   "metadata": {},
   "outputs": [
    {
     "name": "stdout",
     "output_type": "stream",
     "text": [
      "name :  Ayse\n",
      "name :  Mustafa\n",
      "end of for\n"
     ]
    }
   ],
   "source": [
    "names = ['Ayse', 'Mustafa']\n",
    "for name in names:\n",
    "    print('name : ', name)\n",
    "print(\"end of for\")"
   ]
  },
  {
   "cell_type": "code",
   "execution_count": 10,
   "id": "juvenile-clear",
   "metadata": {},
   "outputs": [
    {
     "name": "stdout",
     "output_type": "stream",
     "text": [
      "Before:  -1\n",
      "9 9\n",
      "41 41\n",
      "41 12\n",
      "41 3\n",
      "74 74\n",
      "74 15\n",
      "After :  74\n"
     ]
    }
   ],
   "source": [
    "largest = -1\n",
    "print('Before: ', largest)\n",
    "for num in [9,41,12,3,74,15]:\n",
    "    if num > largest :\n",
    "        largest = num\n",
    "    print(largest, num)\n",
    "print('After : ', largest)"
   ]
  },
  {
   "cell_type": "code",
   "execution_count": 14,
   "id": "planned-induction",
   "metadata": {
    "scrolled": true
   },
   "outputs": [
    {
     "name": "stdout",
     "output_type": "stream",
     "text": [
      "Before: None\n",
      "Loop: 3 3\n",
      "Loop: 41 3\n",
      "Loop: 12 3\n",
      "Loop: 9 3\n",
      "Loop: 74 3\n",
      "Loop: 1 1\n",
      "Loop: 15 1\n",
      "Smallest: 1\n"
     ]
    }
   ],
   "source": [
    "smallest = None\n",
    "print(\"Before:\", smallest)\n",
    "for itervar in [3, 41, 12, 9, 74, 1, 15]:\n",
    "    if smallest is None or itervar < smallest:\n",
    "        smallest = itervar\n",
    "    print(\"Loop:\", itervar, smallest)\n",
    "print(\"Smallest:\", smallest)"
   ]
  },
  {
   "cell_type": "code",
   "execution_count": 15,
   "id": "unusual-converter",
   "metadata": {
    "scrolled": true
   },
   "outputs": [
    {
     "name": "stdout",
     "output_type": "stream",
     "text": [
      "Before: 0\n",
      "1 9\n",
      "2 41\n",
      "3 12\n",
      "4 3\n",
      "5 74\n",
      "6 15\n",
      "After: 6\n"
     ]
    }
   ],
   "source": [
    "index = 0\n",
    "print('Before:',index)\n",
    "for thing in [9,41,12,3,74,15]:\n",
    "    index = index + 1\n",
    "    print(index, thing)\n",
    "print('After:',index)\n",
    "    "
   ]
  },
  {
   "cell_type": "code",
   "execution_count": 18,
   "id": "continued-twins",
   "metadata": {},
   "outputs": [
    {
     "name": "stdout",
     "output_type": "stream",
     "text": [
      "1 9 9\n",
      "2 50 41\n",
      "3 62 12\n",
      "4 65 3\n",
      "5 139 74\n",
      "6 154 15\n",
      "After:  6 154 Average:  25.666666666666668\n"
     ]
    }
   ],
   "source": [
    "count = 0\n",
    "sum = 0\n",
    "for num in [9,41,12,3,74,15]:\n",
    "    count = count + 1\n",
    "    sum = sum + num\n",
    "    print(count, sum, num)\n",
    "print('After: ', count, sum, 'Average: ', sum/count)"
   ]
  },
  {
   "cell_type": "code",
   "execution_count": 19,
   "id": "frequent-raise",
   "metadata": {},
   "outputs": [
    {
     "name": "stdout",
     "output_type": "stream",
     "text": [
      "num:  41\n",
      "num:  74\n",
      "end of for\n"
     ]
    }
   ],
   "source": [
    "for num in [9,41,12,3,74,15]:\n",
    "    if num > 20:\n",
    "        print(\"num: \", num)\n",
    "print(\"end of for\")"
   ]
  },
  {
   "cell_type": "code",
   "execution_count": 1,
   "id": "iraqi-evening",
   "metadata": {
    "scrolled": false
   },
   "outputs": [
    {
     "name": "stdout",
     "output_type": "stream",
     "text": [
      "False 9\n",
      "False 41\n",
      "False 12\n",
      "True 3\n",
      "True 74\n",
      "True 15\n",
      "After:  True\n"
     ]
    }
   ],
   "source": [
    "isFound = False\n",
    "for num in [9,41,12,3,74,15]:\n",
    "    if num == 3:\n",
    "        isFound = True\n",
    "    print(isFound, num)\n",
    "print(\"After: \", isFound)"
   ]
  },
  {
   "cell_type": "code",
   "execution_count": null,
   "id": "sonic-rubber",
   "metadata": {
    "scrolled": true
   },
   "outputs": [],
   "source": [
    "if 0 == 0.0: \n",
    "    print(\"True - 1\")\n",
    "if 0 is 0.0:\n",
    "    print(\"True - 2\")\n",
    "if 0 is not 0.0:\n",
    "    print(\"True - 3\")"
   ]
  },
  {
   "cell_type": "code",
   "execution_count": 10,
   "id": "fatal-whole",
   "metadata": {},
   "outputs": [
    {
     "name": "stdout",
     "output_type": "stream",
     "text": [
      "Enter a number: 2\n",
      "Enter a number: 3\n",
      "Enter a number: 4\n",
      "Enter a number: 5\n",
      "Enter a number: done\n",
      " total:  14.0 \n",
      " number lenghts:  4 \n",
      " average: 3.5\n"
     ]
    }
   ],
   "source": [
    "num = 0\n",
    "tot = 0.0\n",
    "while True:\n",
    "    sval = input(\"Enter a number: \")\n",
    "    if sval == 'done':\n",
    "        break\n",
    "    try:\n",
    "        fval = float(sval)\n",
    "    except:\n",
    "        print('Invalid input')\n",
    "        continue\n",
    "    num = num + 1\n",
    "    tot = tot + fval\n",
    "\n",
    "print(\" total: \", tot,\"\\n number lenghts: \",num, \"\\n average:\",tot/num)"
   ]
  },
  {
   "cell_type": "code",
   "execution_count": 12,
   "id": "confused-macedonia",
   "metadata": {},
   "outputs": [
    {
     "name": "stdout",
     "output_type": "stream",
     "text": [
      "Hello World\n",
      "124\n"
     ]
    }
   ],
   "source": [
    "hello = \"Hello\"\n",
    "world = \"World\"\n",
    "hello_world = hello + \" \" + world\n",
    "print(hello_world)\n",
    "\n",
    "num = '123'\n",
    "num = int(num) + 1 \n",
    "print(num)"
   ]
  },
  {
   "cell_type": "code",
   "execution_count": 16,
   "id": "alive-hurricane",
   "metadata": {},
   "outputs": [
    {
     "name": "stdout",
     "output_type": "stream",
     "text": [
      "b\n",
      "a\n",
      "n\n",
      "a\n",
      "n\n",
      "a\n",
      "Lenght:  6\n"
     ]
    }
   ],
   "source": [
    "banana = 'banana'\n",
    "for letter in banana:\n",
    "    print(letter)\n",
    "print(\"Lenght: \" , len(banana))"
   ]
  },
  {
   "cell_type": "code",
   "execution_count": 17,
   "id": "skilled-diagram",
   "metadata": {},
   "outputs": [
    {
     "name": "stdout",
     "output_type": "stream",
     "text": [
      "0 s\n",
      "1 t\n",
      "2 r\n",
      "3 a\n",
      "4 w\n",
      "5 b\n",
      "6 e\n",
      "7 r\n",
      "8 r\n",
      "9 y\n"
     ]
    }
   ],
   "source": [
    "fruit = 'strawberry'\n",
    "index = 0\n",
    "while index < len(fruit):\n",
    "    letter = fruit[index]\n",
    "    print(index, letter)\n",
    "    index = index + 1"
   ]
  },
  {
   "cell_type": "code",
   "execution_count": 19,
   "id": "super-valley",
   "metadata": {},
   "outputs": [
    {
     "name": "stdout",
     "output_type": "stream",
     "text": [
      "number of a :  3\n"
     ]
    }
   ],
   "source": [
    "banana = 'banana'\n",
    "count = 0\n",
    "for letter in banana:\n",
    "    if letter == 'a':\n",
    "        count = count + 1 \n",
    "print(\"number of a : \",count)"
   ]
  },
  {
   "cell_type": "code",
   "execution_count": 30,
   "id": "enormous-reservoir",
   "metadata": {},
   "outputs": [
    {
     "name": "stdout",
     "output_type": "stream",
     "text": [
      "Sample\n",
      "Text\n",
      "For\n",
      "Python\n"
     ]
    }
   ],
   "source": [
    "text = \"Sample Text For Python\"\n",
    "print(text[0:6])\n",
    "print(text[7:11])\n",
    "print(text[12:15])\n",
    "print(text[16:22])"
   ]
  },
  {
   "cell_type": "code",
   "execution_count": 34,
   "id": "coated-champagne",
   "metadata": {},
   "outputs": [
    {
     "name": "stdout",
     "output_type": "stream",
     "text": [
      "True\n",
      "False\n"
     ]
    }
   ],
   "source": [
    "fruit = \"banana\"\n",
    "print('n' in fruit)\n",
    "print('m' in fruit)"
   ]
  },
  {
   "cell_type": "code",
   "execution_count": 44,
   "id": "referenced-companion",
   "metadata": {
    "scrolled": true
   },
   "outputs": [
    {
     "name": "stdout",
     "output_type": "stream",
     "text": [
      "hello wolrd\n",
      "HELLO WOLRD\n",
      "Hello world\n",
      "<class 'str'>\n"
     ]
    },
    {
     "data": {
      "text/plain": [
       "['__add__',\n",
       " '__class__',\n",
       " '__contains__',\n",
       " '__delattr__',\n",
       " '__dir__',\n",
       " '__doc__',\n",
       " '__eq__',\n",
       " '__format__',\n",
       " '__ge__',\n",
       " '__getattribute__',\n",
       " '__getitem__',\n",
       " '__getnewargs__',\n",
       " '__gt__',\n",
       " '__hash__',\n",
       " '__init__',\n",
       " '__init_subclass__',\n",
       " '__iter__',\n",
       " '__le__',\n",
       " '__len__',\n",
       " '__lt__',\n",
       " '__mod__',\n",
       " '__mul__',\n",
       " '__ne__',\n",
       " '__new__',\n",
       " '__reduce__',\n",
       " '__reduce_ex__',\n",
       " '__repr__',\n",
       " '__rmod__',\n",
       " '__rmul__',\n",
       " '__setattr__',\n",
       " '__sizeof__',\n",
       " '__str__',\n",
       " '__subclasshook__',\n",
       " 'capitalize',\n",
       " 'casefold',\n",
       " 'center',\n",
       " 'count',\n",
       " 'encode',\n",
       " 'endswith',\n",
       " 'expandtabs',\n",
       " 'find',\n",
       " 'format',\n",
       " 'format_map',\n",
       " 'index',\n",
       " 'isalnum',\n",
       " 'isalpha',\n",
       " 'isascii',\n",
       " 'isdecimal',\n",
       " 'isdigit',\n",
       " 'isidentifier',\n",
       " 'islower',\n",
       " 'isnumeric',\n",
       " 'isprintable',\n",
       " 'isspace',\n",
       " 'istitle',\n",
       " 'isupper',\n",
       " 'join',\n",
       " 'ljust',\n",
       " 'lower',\n",
       " 'lstrip',\n",
       " 'maketrans',\n",
       " 'partition',\n",
       " 'replace',\n",
       " 'rfind',\n",
       " 'rindex',\n",
       " 'rjust',\n",
       " 'rpartition',\n",
       " 'rsplit',\n",
       " 'rstrip',\n",
       " 'split',\n",
       " 'splitlines',\n",
       " 'startswith',\n",
       " 'strip',\n",
       " 'swapcase',\n",
       " 'title',\n",
       " 'translate',\n",
       " 'upper',\n",
       " 'zfill']"
      ]
     },
     "execution_count": 44,
     "metadata": {},
     "output_type": "execute_result"
    }
   ],
   "source": [
    "print(\"Hello Wolrd\".lower())\n",
    "print(\"Hello Wolrd\".upper())\n",
    "print(\"hello world\".capitalize())\n",
    "hello = \"Hello World\"\n",
    "print(type(hello))\n",
    "dir(hello)"
   ]
  },
  {
   "cell_type": "code",
   "execution_count": 49,
   "id": "dietary-chest",
   "metadata": {
    "scrolled": true
   },
   "outputs": [
    {
     "name": "stdout",
     "output_type": "stream",
     "text": [
      "6\n"
     ]
    }
   ],
   "source": [
    "str = \"Hello world\"\n",
    "isFound = str.find('wo') \n",
    "print(isFound)"
   ]
  },
  {
   "cell_type": "code",
   "execution_count": 51,
   "id": "proper-surname",
   "metadata": {},
   "outputs": [
    {
     "name": "stdout",
     "output_type": "stream",
     "text": [
      "Hello Ayse\n",
      "Hello Mustafa\n"
     ]
    }
   ],
   "source": [
    "str = \"Hello Ayse\"\n",
    "print(str)\n",
    "replace_str = str.replace(\"Ayse\",\"Mustafa\")\n",
    "print(replace_str)"
   ]
  },
  {
   "cell_type": "code",
   "execution_count": 53,
   "id": "automatic-dress",
   "metadata": {},
   "outputs": [
    {
     "name": "stdout",
     "output_type": "stream",
     "text": [
      "Hello World       \n",
      "     Hello World\n",
      "Hello World\n"
     ]
    }
   ],
   "source": [
    "str = \"     Hello World       \"\n",
    "print(str.lstrip())\n",
    "print(str.rstrip())\n",
    "print(str.strip())"
   ]
  },
  {
   "cell_type": "code",
   "execution_count": 55,
   "id": "corresponding-genealogy",
   "metadata": {},
   "outputs": [
    {
     "name": "stdout",
     "output_type": "stream",
     "text": [
      "True\n",
      "False\n"
     ]
    }
   ],
   "source": [
    "str = \"Please have a nice day\"\n",
    "print(str.startswith('Please'))\n",
    "print(str.startswith('please'))"
   ]
  },
  {
   "cell_type": "code",
   "execution_count": 60,
   "id": "charming-settlement",
   "metadata": {},
   "outputs": [
    {
     "name": "stdout",
     "output_type": "stream",
     "text": [
      "11\n",
      "15\n",
      "i'm\n"
     ]
    }
   ],
   "source": [
    "data = \"hello there,i'm Ayse\"\n",
    "comma = data.find(',')\n",
    "empty = data.find(' ',comma)\n",
    "text = data[comma+1: empty] \n",
    "\n",
    "print(comma)\n",
    "print(empty)\n",
    "print(text)"
   ]
  },
  {
   "cell_type": "code",
   "execution_count": 65,
   "id": "sudden-antibody",
   "metadata": {},
   "outputs": [
    {
     "name": "stdout",
     "output_type": "stream",
     "text": [
      "你好 Ayşe\n"
     ]
    }
   ],
   "source": [
    "# In python 3, all strings are unicode\n",
    "# We don't have to add 'u' before string\n",
    "str = u'你好 Ayşe'\n",
    "print(str)"
   ]
  },
  {
   "cell_type": "code",
   "execution_count": 79,
   "id": "double-ready",
   "metadata": {},
   "outputs": [
    {
     "name": "stdout",
     "output_type": "stream",
     "text": [
      "448\n",
      "<_io.TextIOWrapper name='D:\\\\sample.txt' mode='r' encoding='cp1254'>\n"
     ]
    }
   ],
   "source": [
    "sample_text = open('D:\\sample.txt','r')\n",
    "all_file = sample_text.read()\n",
    "print(len(all_file))\n",
    "print(sample_text)\n"
   ]
  },
  {
   "cell_type": "code",
   "execution_count": 80,
   "id": "bored-express",
   "metadata": {},
   "outputs": [
    {
     "name": "stdout",
     "output_type": "stream",
     "text": [
      "Lorem ipsum dolor sit amet, consectetur adipisicing elit, sed do eiusmod\n",
      "\n",
      "tempor incididunt ut labore et dolore magna aliqua. Ut enim ad minim veniam,\n",
      "\n",
      "quis nostrud exercitation ullamco laboris nisi ut aliquip ex ea commodo\n",
      "\n",
      "consequat. Duis aute irure dolor in reprehenderit in voluptate velit esse\n",
      "\n",
      "cillum dolore eu fugiat nulla pariatur. Excepteur sint occaecat cupidatat non\n",
      "\n",
      "proident, sunt in culpa qui officia deserunt mollit anim id est laborum.\n",
      "\n",
      "\n",
      "\n",
      "Counting lines:  7\n"
     ]
    }
   ],
   "source": [
    "count = 0\n",
    "sample_text = open('D:\\sample.txt','r')\n",
    "for text in sample_text:\n",
    "    print(text)\n",
    "    count = count + 1\n",
    "print(\"Counting lines: \" , count)"
   ]
  },
  {
   "cell_type": "code",
   "execution_count": 2,
   "id": "statistical-electricity",
   "metadata": {},
   "outputs": [
    {
     "name": "stdout",
     "output_type": "stream",
     "text": [
      "Line with lorem:  Lorem ipsum dolor sit amet, consectetur adipisicing elit, sed do eiusmod\n",
      "\n",
      "\n",
      "no ipsum:  tempor incididunt ut labore et dolore magna aliqua. Ut enim ad minim veniam,\n",
      "\n",
      "\n",
      "no ipsum:  quis nostrud exercitation ullamco laboris nisi ut aliquip ex ea commodo\n",
      "\n",
      "\n",
      "no ipsum:  consequat. Duis aute irure dolor in reprehenderit in voluptate velit esse\n",
      "\n",
      "\n",
      "no ipsum:  cillum dolore eu fugiat nulla pariatur. Excepteur sint occaecat cupidatat non\n",
      "\n",
      "\n",
      "no ipsum:  proident, sunt in culpa qui officia deserunt mollit anim id est laborum.\n",
      "\n",
      "\n",
      "no ipsum:  \n",
      "\n",
      "\n"
     ]
    }
   ],
   "source": [
    "try:\n",
    "    sample_text = open('D:\\sample.txt','r')\n",
    "except:\n",
    "    print(\"File cannot be found: \", sample_text)\n",
    "    quit()\n",
    "\n",
    "for line in sample_text:\n",
    "    line  = line.rstrip()\n",
    "    if not 'ipsum' in line:\n",
    "        print('no ipsum: ',line )\n",
    "        print('\\n')\n",
    "    if not line.startswith('Lorem'):\n",
    "        continue\n",
    "    print(\"Line with lorem: \",line)\n",
    "    print('\\n')\n"
   ]
  },
  {
   "cell_type": "code",
   "execution_count": null,
   "id": "simple-platinum",
   "metadata": {},
   "outputs": [],
   "source": [
    "# Algorithms -> a set of rules or steps used to solve a problem\n",
    "# Data Structures -> a particular way of organizing data in a computer"
   ]
  },
  {
   "cell_type": "code",
   "execution_count": 6,
   "id": "funky-binding",
   "metadata": {},
   "outputs": [
    {
     "name": "stdout",
     "output_type": "stream",
     "text": [
      "[1, 2, 3, 4]\n",
      "['a', 'b', 'c']\n",
      "[1, 2, 22, 4]\n",
      "[1, 2, 'one', 'two']\n"
     ]
    }
   ],
   "source": [
    "# LISTS\n",
    "number_list = [1,2,3,4]\n",
    "string_text = ['a', 'b', 'c']\n",
    "\n",
    "print(number_list)\n",
    "print(string_text)\n",
    "\n",
    "number_list[2] = 22\n",
    "print(number_list)\n",
    "\n",
    "mix_list = [1, 2, 'one', 'two']\n",
    "print(mix_list)"
   ]
  },
  {
   "cell_type": "code",
   "execution_count": 7,
   "id": "cordless-sound",
   "metadata": {},
   "outputs": [
    {
     "name": "stdout",
     "output_type": "stream",
     "text": [
      "range(0, 4)\n"
     ]
    }
   ],
   "source": [
    "print(range(4))"
   ]
  },
  {
   "cell_type": "code",
   "execution_count": 13,
   "id": "appreciated-acrylic",
   "metadata": {},
   "outputs": [
    {
     "name": "stdout",
     "output_type": "stream",
     "text": [
      "[1, 2, 3, 4]\n",
      "[2, 3, 4]\n",
      "[1, 2]\n",
      "[1, 2, 3, 4]\n"
     ]
    }
   ],
   "source": [
    "a = [1, 2]\n",
    "b = [3, 4]\n",
    "c = a + b\n",
    "print(c)\n",
    "print(c[1:])\n",
    "print(c[:2])\n",
    "print(c[:])"
   ]
  },
  {
   "cell_type": "code",
   "execution_count": 19,
   "id": "difficult-competition",
   "metadata": {},
   "outputs": [
    {
     "name": "stdout",
     "output_type": "stream",
     "text": [
      "<class 'list'>\n",
      "['a', 'b', 2]\n",
      "3 is not in x\n"
     ]
    }
   ],
   "source": [
    "x  = list()\n",
    "print(type(x))\n",
    "x.append('a')\n",
    "x.append('b')\n",
    "x.append(2)\n",
    "if 2 in x:\n",
    "    print(x)\n",
    "if 3 not in x:\n",
    "    print('3 is not in x')\n"
   ]
  },
  {
   "cell_type": "code",
   "execution_count": 21,
   "id": "least-state",
   "metadata": {},
   "outputs": [
    {
     "name": "stdout",
     "output_type": "stream",
     "text": [
      "['Ahmet', 'Ayşe', 'Mustafa']\n",
      "Mustafa\n"
     ]
    }
   ],
   "source": [
    "name = ['Mustafa', 'Ahmet', 'Ayşe']\n",
    "name.sort()\n",
    "print(name)\n",
    "print(name[2])"
   ]
  },
  {
   "cell_type": "code",
   "execution_count": 25,
   "id": "happy-exclusion",
   "metadata": {},
   "outputs": [
    {
     "name": "stdout",
     "output_type": "stream",
     "text": [
      "min:  1\n",
      "max:  90\n",
      "sum:  128\n",
      "average:  14.222222222222221\n"
     ]
    }
   ],
   "source": [
    "nums = [90,1,2,3,4,5,6,10,7]\n",
    "print('min: ' , min(nums))\n",
    "print('max: ' , max(nums))\n",
    "print('sum: ', sum(nums))\n",
    "print('average: ' , sum(nums) / len(nums))"
   ]
  },
  {
   "cell_type": "code",
   "execution_count": 26,
   "id": "double-tuner",
   "metadata": {},
   "outputs": [
    {
     "name": "stdout",
     "output_type": "stream",
     "text": [
      "['With', 'three', 'words']\n"
     ]
    }
   ],
   "source": [
    "word = 'With three words'\n",
    "split_word = word.split()\n",
    "print(split_word)"
   ]
  },
  {
   "cell_type": "code",
   "execution_count": null,
   "id": "rising-memory",
   "metadata": {},
   "outputs": [],
   "source": []
  }
 ],
 "metadata": {
  "kernelspec": {
   "display_name": "Python 3",
   "language": "python",
   "name": "python3"
  },
  "language_info": {
   "codemirror_mode": {
    "name": "ipython",
    "version": 3
   },
   "file_extension": ".py",
   "mimetype": "text/x-python",
   "name": "python",
   "nbconvert_exporter": "python",
   "pygments_lexer": "ipython3",
   "version": "3.8.8"
  }
 },
 "nbformat": 4,
 "nbformat_minor": 5
}
