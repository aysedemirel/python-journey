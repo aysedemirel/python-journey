{
 "cells": [
  {
   "cell_type": "code",
   "execution_count": null,
   "metadata": {},
   "outputs": [],
   "source": [
    "# INTRODUCTION"
   ]
  },
  {
   "cell_type": "code",
   "execution_count": null,
   "metadata": {},
   "outputs": [],
   "source": [
    "number = 5\n",
    "text = \"sample text\"\n",
    "\n",
    "print(type(number),type(text))"
   ]
  },
  {
   "cell_type": "code",
   "execution_count": null,
   "metadata": {},
   "outputs": [],
   "source": [
    "input_text = input(\"Please enter a text : \")"
   ]
  },
  {
   "cell_type": "code",
   "execution_count": null,
   "metadata": {},
   "outputs": [],
   "source": [
    "text_number = \"4\"\n",
    "number = int(text_number)\n",
    "print(\"number: \",number)"
   ]
  },
  {
   "cell_type": "code",
   "execution_count": null,
   "metadata": {},
   "outputs": [],
   "source": [
    "# In python 3, all strings are unicode\n",
    "# We don't have to add 'u' before string\n",
    "str = u'你好 Ayşe'\n",
    "print(str)"
   ]
  },
  {
   "cell_type": "code",
   "execution_count": null,
   "metadata": {},
   "outputs": [],
   "source": [
    "# FUNCTIONS"
   ]
  },
  {
   "cell_type": "code",
   "execution_count": null,
   "metadata": {},
   "outputs": [],
   "source": [
    "def sum(a,b):\n",
    "    return a+b\n",
    "\n",
    "a = input(\"Enter first number: \")\n",
    "b = input(\"Enter first number: \")\n",
    "\n",
    "sum_numbers = sum(int(a),int(b))\n",
    "print(\"Sum: \", sum_numbers)"
   ]
  },
  {
   "cell_type": "code",
   "execution_count": null,
   "metadata": {},
   "outputs": [],
   "source": [
    "# ITERATIONS"
   ]
  },
  {
   "cell_type": "code",
   "execution_count": null,
   "metadata": {},
   "outputs": [],
   "source": [
    "names = ['Ayse', 'Mustafa']\n",
    "for name in names:\n",
    "    print('name : ', name)\n",
    "print(\"end of for\")"
   ]
  },
  {
   "cell_type": "code",
   "execution_count": null,
   "metadata": {},
   "outputs": [],
   "source": [
    "for i in [2,3,4]:\n",
    "   print(i)\n",
    "print(\"end of for\")"
   ]
  },
  {
   "cell_type": "code",
   "execution_count": null,
   "metadata": {},
   "outputs": [],
   "source": [
    "largest = -1\n",
    "print('Before: ', largest)\n",
    "for num in [9,41,12,3,74,15]:\n",
    "    if num > largest :\n",
    "        largest = num\n",
    "    print(largest, num)\n",
    "print('After : ', largest)"
   ]
  },
  {
   "cell_type": "code",
   "execution_count": null,
   "metadata": {
    "scrolled": true
   },
   "outputs": [],
   "source": [
    "index = 0\n",
    "print('Before:',index)\n",
    "for thing in [9,41,12,3,74,15]:\n",
    "    index = index + 1\n",
    "    print(index, thing)\n",
    "print('After:',index)"
   ]
  },
  {
   "cell_type": "code",
   "execution_count": null,
   "metadata": {},
   "outputs": [],
   "source": [
    "count = 0\n",
    "sum = 0\n",
    "for num in [9,41,12,3,74,15]:\n",
    "    count = count + 1\n",
    "    sum = sum + num\n",
    "    print(count, sum, num)\n",
    "print('After: ', count, sum, 'Average: ', sum/count)"
   ]
  },
  {
   "cell_type": "code",
   "execution_count": null,
   "metadata": {},
   "outputs": [],
   "source": [
    "for num in [9,41,12,3,74,15]:\n",
    "    if num > 20:\n",
    "        print(\"num: \", num)\n",
    "print(\"end of for\")"
   ]
  },
  {
   "cell_type": "code",
   "execution_count": null,
   "metadata": {
    "scrolled": false
   },
   "outputs": [],
   "source": [
    "isFound = False\n",
    "for num in [9,41,12,3,74,15]:\n",
    "    if num == 3:\n",
    "        isFound = True\n",
    "    print(isFound, num)\n",
    "print(\"After: \", isFound)"
   ]
  },
  {
   "cell_type": "code",
   "execution_count": null,
   "metadata": {
    "scrolled": true
   },
   "outputs": [],
   "source": [
    "if 0 == 0.0: \n",
    "    print(\"True - 1\")\n",
    "if 0 is 0.0:\n",
    "    print(\"True - 2\")\n",
    "if 0 is not 0.0:\n",
    "    print(\"True - 3\")"
   ]
  },
  {
   "cell_type": "code",
   "execution_count": null,
   "metadata": {},
   "outputs": [],
   "source": [
    "num = 0\n",
    "tot = 0.0\n",
    "while True:\n",
    "    sval = input(\"Enter a number: \")\n",
    "    if sval == 'done':\n",
    "        break\n",
    "    try:\n",
    "        fval = float(sval)\n",
    "    except:\n",
    "        print('Invalid input')\n",
    "        continue\n",
    "    num = num + 1\n",
    "    tot = tot + fval\n",
    "\n",
    "print(\" total: \", tot,\"\\n number lenghts: \",num, \"\\n average:\",tot/num)"
   ]
  },
  {
   "cell_type": "code",
   "execution_count": null,
   "metadata": {},
   "outputs": [],
   "source": [
    "hello = \"Hello\"\n",
    "world = \"World\"\n",
    "hello_world = hello + \" \" + world\n",
    "print(hello_world)\n",
    "\n",
    "num = '123'\n",
    "num = int(num) + 1 \n",
    "print(num)"
   ]
  },
  {
   "cell_type": "code",
   "execution_count": null,
   "metadata": {},
   "outputs": [],
   "source": [
    "banana = 'banana'\n",
    "for letter in banana:\n",
    "    print(letter)\n",
    "print(\"Lenght: \" , len(banana))"
   ]
  },
  {
   "cell_type": "code",
   "execution_count": null,
   "metadata": {},
   "outputs": [],
   "source": [
    "fruit = 'strawberry'\n",
    "index = 0\n",
    "while index < len(fruit):\n",
    "    letter = fruit[index]\n",
    "    print(index, letter)\n",
    "    index = index + 1"
   ]
  },
  {
   "cell_type": "code",
   "execution_count": null,
   "metadata": {},
   "outputs": [],
   "source": [
    "banana = 'banana'\n",
    "count = 0\n",
    "for letter in banana:\n",
    "    if letter == 'a':\n",
    "        count = count + 1 \n",
    "print(\"number of a : \",count)"
   ]
  },
  {
   "cell_type": "code",
   "execution_count": null,
   "metadata": {},
   "outputs": [],
   "source": [
    "text = \"Sample Text For Python\"\n",
    "print(text[0:6])\n",
    "print(text[7:11])\n",
    "print(text[12:15])\n",
    "print(text[16:22])"
   ]
  },
  {
   "cell_type": "code",
   "execution_count": null,
   "metadata": {},
   "outputs": [],
   "source": [
    "fruit = \"banana\"\n",
    "print('n' in fruit)\n",
    "print('m' in fruit)"
   ]
  },
  {
   "cell_type": "code",
   "execution_count": null,
   "metadata": {
    "scrolled": true
   },
   "outputs": [],
   "source": [
    "print(\"Hello Wolrd\".lower())\n",
    "print(\"Hello Wolrd\".upper())\n",
    "print(\"hello world\".capitalize())\n",
    "hello = \"Hello World\"\n",
    "print(type(hello))\n",
    "dir(hello)"
   ]
  },
  {
   "cell_type": "code",
   "execution_count": null,
   "metadata": {
    "scrolled": true
   },
   "outputs": [],
   "source": [
    "str = \"Hello world\"\n",
    "isFound = str.find('wo') \n",
    "print(isFound)"
   ]
  },
  {
   "cell_type": "code",
   "execution_count": null,
   "metadata": {},
   "outputs": [],
   "source": [
    "str = \"Hello Ayse\"\n",
    "print(str)\n",
    "replace_str = str.replace(\"Ayse\",\"Mustafa\")\n",
    "print(replace_str)"
   ]
  },
  {
   "cell_type": "code",
   "execution_count": 61,
   "metadata": {},
   "outputs": [
    {
     "name": "stdout",
     "output_type": "stream",
     "text": [
      "Hello World       \n",
      "     Hello World\n",
      "Hello World\n"
     ]
    }
   ],
   "source": [
    "str = \"     Hello World       \"\n",
    "print(str.lstrip())\n",
    "print(str.rstrip())\n",
    "print(str.strip())"
   ]
  },
  {
   "cell_type": "code",
   "execution_count": null,
   "metadata": {},
   "outputs": [],
   "source": [
    "str = \"Please have a nice day\"\n",
    "print(str.startswith('Please'))\n",
    "print(str.startswith('please'))"
   ]
  },
  {
   "cell_type": "code",
   "execution_count": null,
   "metadata": {},
   "outputs": [],
   "source": [
    "data = \"hello there,i'm Ayse\"\n",
    "comma = data.find(',')\n",
    "empty = data.find(' ',comma)\n",
    "text = data[comma+1: empty] \n",
    "\n",
    "print(comma)\n",
    "print(empty)\n",
    "print(text)"
   ]
  },
  {
   "cell_type": "code",
   "execution_count": null,
   "metadata": {},
   "outputs": [],
   "source": [
    "# FILE OPERATIONS"
   ]
  },
  {
   "cell_type": "code",
   "execution_count": null,
   "metadata": {},
   "outputs": [],
   "source": [
    "sample_text = open('D:\\sample.txt','r')\n",
    "all_file = sample_text.read()\n",
    "print(len(all_file))\n",
    "print(sample_text)"
   ]
  },
  {
   "cell_type": "code",
   "execution_count": null,
   "metadata": {},
   "outputs": [],
   "source": [
    "count = 0\n",
    "sample_text = open('D:\\sample.txt','r')\n",
    "for text in sample_text:\n",
    "    print(text)\n",
    "    count = count + 1\n",
    "print(\"Counting lines: \" , count)"
   ]
  },
  {
   "cell_type": "code",
   "execution_count": null,
   "metadata": {},
   "outputs": [],
   "source": [
    "try:\n",
    "    sample_text = open('D:\\sample.txt','r')\n",
    "except:\n",
    "    print(\"File cannot be found: \", sample_text)\n",
    "    quit()\n",
    "\n",
    "for line in sample_text:\n",
    "    line  = line.rstrip()\n",
    "    if not 'ipsum' in line:\n",
    "        print('no ipsum: ',line )\n",
    "        print('\\n')\n",
    "    if not line.startswith('Lorem'):\n",
    "        continue\n",
    "    print(\"Line with lorem: \",line)\n",
    "    print('\\n')"
   ]
  },
  {
   "cell_type": "code",
   "execution_count": null,
   "metadata": {},
   "outputs": [],
   "source": [
    "# Algorithms -> a set of rules or steps used to solve a problem\n",
    "# Data Structures -> a particular way of organizing data in a computer"
   ]
  },
  {
   "cell_type": "code",
   "execution_count": null,
   "metadata": {},
   "outputs": [],
   "source": [
    "#LISTS"
   ]
  },
  {
   "cell_type": "code",
   "execution_count": null,
   "metadata": {},
   "outputs": [],
   "source": [
    "number_list = [1,2,3,4]\n",
    "string_text = ['a', 'b', 'c']\n",
    "\n",
    "print(number_list)\n",
    "print(string_text)\n",
    "\n",
    "number_list[2] = 22\n",
    "print(number_list)\n",
    "\n",
    "mix_list = [1, 2, 'one', 'two']\n",
    "print(mix_list)"
   ]
  },
  {
   "cell_type": "code",
   "execution_count": null,
   "metadata": {},
   "outputs": [],
   "source": [
    "print(range(4))"
   ]
  },
  {
   "cell_type": "code",
   "execution_count": null,
   "metadata": {},
   "outputs": [],
   "source": [
    "a = [1, 2]\n",
    "b = [3, 4]\n",
    "c = a + b\n",
    "print(c)\n",
    "print(c[1:])\n",
    "print(c[:2])\n",
    "print(c[:])"
   ]
  },
  {
   "cell_type": "code",
   "execution_count": null,
   "metadata": {},
   "outputs": [],
   "source": [
    "x  = list()\n",
    "print(type(x))\n",
    "x.append('a')\n",
    "x.append('b')\n",
    "x.append(2)\n",
    "if 2 in x:\n",
    "    print(x)\n",
    "if 3 not in x:\n",
    "    print('3 is not in x')"
   ]
  },
  {
   "cell_type": "code",
   "execution_count": null,
   "metadata": {},
   "outputs": [],
   "source": [
    "name = ['Mustafa', 'Ahmet', 'Ayşe']\n",
    "name.sort()\n",
    "print(name)\n",
    "print(name[2])"
   ]
  },
  {
   "cell_type": "code",
   "execution_count": null,
   "metadata": {},
   "outputs": [],
   "source": [
    "nums = [90,1,2,3,4,5,6,10,7]\n",
    "print('min: ' , min(nums))\n",
    "print('max: ' , max(nums))\n",
    "print('sum: ', sum(nums))\n",
    "print('average: ' , sum(nums) / len(nums))"
   ]
  },
  {
   "cell_type": "code",
   "execution_count": null,
   "metadata": {},
   "outputs": [],
   "source": [
    "word = 'With three words'\n",
    "split_word = word.split()\n",
    "print(split_word)"
   ]
  },
  {
   "cell_type": "code",
   "execution_count": null,
   "metadata": {},
   "outputs": [],
   "source": [
    "# Collections: List and Dictionary\n",
    "# List -> A linear collection of values that stay in order\n",
    "# Dictionary -> A bag of values, each with its own label"
   ]
  },
  {
   "cell_type": "code",
   "execution_count": null,
   "metadata": {},
   "outputs": [],
   "source": [
    "# DICTIONARIES\n",
    "# Dictionaries are Python's most powerful data collection\n",
    "# Dictionaries allow us to do fast database-like operations in Python\n",
    "# Dictionaries in Python is like \"Properties or Map or Hashmap - Java\"\n",
    "# Key-Value"
   ]
  },
  {
   "cell_type": "code",
   "execution_count": null,
   "metadata": {},
   "outputs": [],
   "source": [
    "purse = dict()\n",
    "purse['money'] = 12\n",
    "purse['candy'] = 3\n",
    "purse['tissues'] = 75\n",
    "print(purse)\n",
    "print(purse['candy'])\n",
    "purse['candy'] = purse['candy'] + 2\n",
    "print(purse)"
   ]
  },
  {
   "cell_type": "code",
   "execution_count": null,
   "metadata": {},
   "outputs": [],
   "source": [
    "ages_dict = {}\n",
    "print(ages_dict)\n",
    "ages_dict = {'ayse' : 1, 'mustafa' : 2}\n",
    "print(ages_dict)"
   ]
  },
  {
   "cell_type": "code",
   "execution_count": 10,
   "metadata": {},
   "outputs": [
    {
     "name": "stdout",
     "output_type": "stream",
     "text": [
      "{'ayse': 1, 'mustafa': 1, 'ahmet': 1}\n",
      "10\n"
     ]
    }
   ],
   "source": [
    "counts = dict()\n",
    "names = ['ayse', 'mustafa', 'ahmet']\n",
    "for name in names:\n",
    "    if name not in counts:\n",
    "        counts[name] = 1\n",
    "    else:\n",
    "        counts[name] = counts[name] + 1\n",
    "print(counts)\n",
    "\n",
    "x = counts.get('ayse', 1)\n",
    "print(x)"
   ]
  },
  {
   "cell_type": "code",
   "execution_count": 12,
   "metadata": {},
   "outputs": [
    {
     "name": "stdout",
     "output_type": "stream",
     "text": [
      "Enter lines of text: \n",
      "2\n",
      "Words:  ['2']\n",
      "Counts:  {'2': 1}\n"
     ]
    }
   ],
   "source": [
    "counts = dict()\n",
    "print('Enter lines of text: ')\n",
    "line = input('')\n",
    "words = line.split()\n",
    "print('Words: ',words)\n",
    "for word in words:\n",
    "    counts[word] = counts.get(word,0) + 1\n",
    "print('Counts: ', counts)"
   ]
  },
  {
   "cell_type": "code",
   "execution_count": 14,
   "metadata": {},
   "outputs": [
    {
     "name": "stdout",
     "output_type": "stream",
     "text": [
      "['ayse', 'mustafa']\n",
      "dict_keys(['ayse', 'mustafa'])\n",
      "dict_values([1, 2])\n",
      "dict_items([('ayse', 1), ('mustafa', 2)])\n"
     ]
    }
   ],
   "source": [
    "name_age = {'ayse' : 1, 'mustafa' : 2}\n",
    "print(list(name_age))\n",
    "print(name_age.keys())\n",
    "print(name_age.values())\n",
    "print(name_age.items()) # key and value"
   ]
  },
  {
   "cell_type": "code",
   "execution_count": 16,
   "metadata": {},
   "outputs": [
    {
     "name": "stdout",
     "output_type": "stream",
     "text": [
      "ayse 1\n",
      "mustafa 2\n"
     ]
    }
   ],
   "source": [
    "name_age = {'ayse' : 1, 'mustafa' : 2}\n",
    "for name,age in name_age.items():\n",
    "    print(name, age)"
   ]
  },
  {
   "cell_type": "code",
   "execution_count": 17,
   "metadata": {},
   "outputs": [
    {
     "name": "stdout",
     "output_type": "stream",
     "text": [
      "annie 42\n",
      "jan 100\n"
     ]
    }
   ],
   "source": [
    "counts = { 'chuck' : 1 , 'annie' : 42, 'jan': 100}\n",
    "for key in counts:\n",
    "    if counts[key] > 10:\n",
    "        print(key, counts[key])"
   ]
  },
  {
   "cell_type": "code",
   "execution_count": 19,
   "metadata": {},
   "outputs": [
    {
     "name": "stdout",
     "output_type": "stream",
     "text": [
      "{'brand': 'Ford', 'electric': False, 'year': 1964, 'colors': ['red', 'white', 'blue']}\n",
      "['red', 'white', 'blue']\n"
     ]
    }
   ],
   "source": [
    "thisdict = {\n",
    "  \"brand\": \"Ford\",\n",
    "  \"electric\": False,\n",
    "  \"year\": 1964,\n",
    "  \"colors\": [\"red\", \"white\", \"blue\"]\n",
    "}\n",
    "print(thisdict)\n",
    "# get(keyname,value)\n",
    "# keyname -> Required. The keyname of the item you want to return the value from\n",
    "# value -> Optional. A value to return if the specified key does not exist. Default value None\n",
    "print(thisdict.get('colors'))"
   ]
  },
  {
   "cell_type": "code",
   "execution_count": 20,
   "metadata": {},
   "outputs": [
    {
     "name": "stdout",
     "output_type": "stream",
     "text": [
      "{'brand': 'Ford', 'electric': False, 'year': 1964, 'colors': ['red', 'white', 'blue']}\n",
      "{'brand': 'Ford', 'year': 1964, 'colors': ['red', 'white', 'blue']}\n",
      "{}\n"
     ]
    }
   ],
   "source": [
    "thisdict = {\n",
    "  \"brand\": \"Ford\",\n",
    "  \"electric\": False,\n",
    "  \"year\": 1964,\n",
    "  \"colors\": [\"red\", \"white\", \"blue\"]\n",
    "}\n",
    "print(thisdict)\n",
    "thisdict.pop(\"electric\")\n",
    "print(thisdict)\n",
    "thisdict.clear()\n",
    "print(thisdict)"
   ]
  },
  {
   "cell_type": "code",
   "execution_count": 22,
   "metadata": {},
   "outputs": [
    {
     "name": "stdout",
     "output_type": "stream",
     "text": [
      "{'name': 'Tobias', 'year': 2007}\n"
     ]
    }
   ],
   "source": [
    "myfamily = {\n",
    "  \"child1\" : {\n",
    "    \"name\" : \"Emil\",\n",
    "    \"year\" : 2004\n",
    "  },\n",
    "  \"child2\" : {\n",
    "    \"name\" : \"Tobias\",\n",
    "    \"year\" : 2007\n",
    "  },\n",
    "  \"child3\" : {\n",
    "    \"name\" : \"Linus\",\n",
    "    \"year\" : 2011\n",
    "  }\n",
    "}\n",
    "print(myfamily[\"child2\"])"
   ]
  },
  {
   "cell_type": "code",
   "execution_count": null,
   "metadata": {},
   "outputs": [],
   "source": [
    "# TUPLES"
   ]
  },
  {
   "cell_type": "code",
   "execution_count": 25,
   "metadata": {},
   "outputs": [
    {
     "name": "stdout",
     "output_type": "stream",
     "text": [
      "['Ayse', 'Mustafa', 'Ahmet']\n",
      "['Ahmet', 'Ayse', 'Mustafa']\n",
      "['Ahmet', 'Ayse', 'Mustafa', 'Deniz']\n",
      "['Deniz', 'Mustafa', 'Ayse', 'Ahmet']\n"
     ]
    }
   ],
   "source": [
    "x = ['Ayse', 'Mustafa', 'Ahmet']\n",
    "print(x)\n",
    "x.sort()\n",
    "print(x)\n",
    "x.append('Deniz')\n",
    "print(x)\n",
    "x.reverse()\n",
    "print(x)"
   ]
  },
  {
   "cell_type": "code",
   "execution_count": 27,
   "metadata": {},
   "outputs": [
    {
     "name": "stdout",
     "output_type": "stream",
     "text": [
      "Ayse\n",
      "ayse 1\n",
      "mustafa 2\n"
     ]
    }
   ],
   "source": [
    "(x,y) = (4, 'Ayse')\n",
    "print(y)\n",
    "\n",
    "d = dict()\n",
    "d['ayse'] = 1\n",
    "d['mustafa'] = 2\n",
    "for (k,v) in d.items():\n",
    "    print(k,v)"
   ]
  },
  {
   "cell_type": "code",
   "execution_count": 29,
   "metadata": {},
   "outputs": [
    {
     "name": "stdout",
     "output_type": "stream",
     "text": [
      "True\n"
     ]
    }
   ],
   "source": [
    "# First item is smaller than oter tuple's first item, it is true. After the second element, third element.\n",
    "if((0,1,2)<(5,1,2)):\n",
    "    print(True)\n",
    "else:\n",
    "    print(False)"
   ]
  },
  {
   "cell_type": "code",
   "execution_count": 40,
   "metadata": {},
   "outputs": [
    {
     "name": "stdout",
     "output_type": "stream",
     "text": [
      "dict_items([('c', 1), ('b', 2)])\n",
      "[('b', 2), ('c', 1)]\n",
      "['b', 'c']\n",
      "['c', 'b']\n"
     ]
    }
   ],
   "source": [
    "d = {'c':1,'b':2}\n",
    "print(d.items())\n",
    "print(sorted(d.items()))\n",
    "print(sorted(d))\n",
    "print(sorted(d, reverse=True))"
   ]
  },
  {
   "cell_type": "code",
   "execution_count": 41,
   "metadata": {},
   "outputs": [
    {
     "name": "stdout",
     "output_type": "stream",
     "text": [
      "[(1, 'b'), (10, 'a'), (22, 'c')]\n"
     ]
    }
   ],
   "source": [
    "c = {'a':10, 'b':1, 'c':22}\n",
    "print(sorted([(v,k) for k,v in c.items()]))"
   ]
  },
  {
   "cell_type": "code",
   "execution_count": 44,
   "metadata": {},
   "outputs": [
    {
     "name": "stdout",
     "output_type": "stream",
     "text": [
      "(53, 'chuck')\n",
      "(42, 'annie')\n",
      "(100, 'jan')\n",
      "[(100, 'jan'), (53, 'chuck'), (42, 'annie')]\n"
     ]
    }
   ],
   "source": [
    "counts = { 'chuck' : 53 , 'annie' : 42, 'jan': 100}\n",
    "lst = []\n",
    "for key, val in counts.items():\n",
    "    newtup = (val, key)\n",
    "    print(newtup)\n",
    "    lst.append(newtup)\n",
    "lst = sorted(lst, reverse=True)\n",
    "print(lst)"
   ]
  },
  {
   "cell_type": "code",
   "execution_count": null,
   "metadata": {},
   "outputs": [],
   "source": [
    "# REGULAR EXPRESSIONS"
   ]
  },
  {
   "cell_type": "code",
   "execution_count": 55,
   "metadata": {},
   "outputs": [
    {
     "name": "stdout",
     "output_type": "stream",
     "text": [
      "It is true\n",
      "Ayse\n"
     ]
    }
   ],
   "source": [
    "import re\n",
    "\n",
    "# find() and re.search() \n",
    "text = \"From: Ayse, Loves\"\n",
    "if re.search('From:',text):\n",
    "    print('It is true')\n",
    "else:\n",
    "    print('It is false')\n",
    "if text.find('Ayse') >= 0:\n",
    "    print('Ayse')"
   ]
  },
  {
   "cell_type": "code",
   "execution_count": 62,
   "metadata": {},
   "outputs": [
    {
     "name": "stdout",
     "output_type": "stream",
     "text": [
      "It is true\n",
      "Startswith\n"
     ]
    }
   ],
   "source": [
    "# startswith and re.search(^)\n",
    "text = \"From: Ayse, Loves\"\n",
    "if re.search('^From:',text):\n",
    "    print('It is true')\n",
    "else:\n",
    "    print('It is false')  \n",
    "if text.startswith('From:'):\n",
    "    print('Startswith')"
   ]
  },
  {
   "cell_type": "code",
   "execution_count": 73,
   "metadata": {},
   "outputs": [
    {
     "name": "stdout",
     "output_type": "stream",
     "text": [
      "['4', '7']\n",
      "['From: Using the :']\n",
      "['From:']\n",
      "['aysedemirel@gmail.com']\n",
      "['ayse@gmail.com']\n"
     ]
    }
   ],
   "source": [
    "x = 'My favorite numbers are 4 and 7'\n",
    "y = re.findall('[0-9]+',x)\n",
    "print(y)\n",
    "x = 'From: Using the : character'\n",
    "y = re.findall('^F.+:',x)\n",
    "print(y)\n",
    "y = re.findall('^F.+?:',x)\n",
    "print(y)\n",
    "x = 'aysedemirel@gmail.com'\n",
    "y = re.findall('\\S+@\\S+',x)\n",
    "print(y)\n",
    "x = 'From: ayse@gmail.com'\n",
    "y = re.findall('From: (\\S+@\\S+)',x)\n",
    "print(y)"
   ]
  },
  {
   "cell_type": "code",
   "execution_count": 74,
   "metadata": {},
   "outputs": [
    {
     "name": "stdout",
     "output_type": "stream",
     "text": [
      "['From', 'aysedemirel@gmail.com', 'Sat', 'Jan', '5', '03:23:34', '2008']\n",
      "aysedemirel@gmail.com\n",
      "['aysedemirel', 'gmail.com']\n"
     ]
    }
   ],
   "source": [
    "text = 'From aysedemirel@gmail.com Sat Jan 5 03:23:34 2008'\n",
    "words = text.split()\n",
    "print(words)\n",
    "email = words[1]\n",
    "print(email)\n",
    "pieces = email.split('@')\n",
    "print(pieces)"
   ]
  },
  {
   "cell_type": "code",
   "execution_count": 75,
   "metadata": {},
   "outputs": [
    {
     "name": "stdout",
     "output_type": "stream",
     "text": [
      "['gmail.com']\n"
     ]
    }
   ],
   "source": [
    "text = 'From aysedemirel@gmail.com Sat Jan 5 03:23:34 2008'\n",
    "y = re.findall('@([^ ]*)', text)\n",
    "print(y)"
   ]
  },
  {
   "cell_type": "code",
   "execution_count": null,
   "metadata": {},
   "outputs": [],
   "source": [
    "# NETWORKS "
   ]
  },
  {
   "cell_type": "code",
   "execution_count": 2,
   "metadata": {},
   "outputs": [
    {
     "name": "stdout",
     "output_type": "stream",
     "text": [
      "HTTP/1.1 400 Bad Request\r\n",
      "Date: Mon, 01 Mar 2021 15:30:54 GMT\r\n",
      "Server: Apache/2.4.18 (Ubuntu)\r\n",
      "Content-Length: 308\r\n",
      "Connection: close\r\n",
      "Content-Type: text/html; charset=iso-8859-1\r\n",
      "\r\n",
      "<!DOCTYPE HTML PUBLIC \"-//IETF//DTD HTML 2.0//EN\">\n",
      "<html><head>\n",
      "<title>400 Bad Request</title>\n",
      "</head><body>\n",
      "<h1>Bad Request</h1>\n",
      "<p>Your browser sent a request that this server could not understand.<br />\n",
      "</p>\n",
      "<hr>\n",
      "<address>Apache/2.4.18 (Ubuntu) Server at do1.dr-chuck.com Port 80</address>\n",
      "</body></html>\n",
      "\n"
     ]
    }
   ],
   "source": [
    "import socket\n",
    "\n",
    "mySocket = socket.socket(socket.AF_INET, socket.SOCK_STREAM)\n",
    "mySocket.connect(('data.pr4e.org', 80))\n",
    "\n",
    "cmd = 'GET http://data.pr4e.org/romeo.txt HTTP/1.0\\n\\n'.encode()\n",
    "mySocket.send(cmd)\n",
    "\n",
    "while True:\n",
    "    data = mySocket.recv(512)\n",
    "    if(len(data) < 1):\n",
    "        break\n",
    "    print(data.decode())\n",
    "mySocket.close()"
   ]
  },
  {
   "cell_type": "code",
   "execution_count": 5,
   "metadata": {},
   "outputs": [
    {
     "name": "stdout",
     "output_type": "stream",
     "text": [
      "HTTP/1.1 200 OK\r\n",
      "Date: Mon, 01 Mar 2021 15:33:49 GMT\r\n",
      "Server: Apache/2.4.18 (Ubuntu)\r\n",
      "Last-Modified: Sat, 13 May 2017 11:22:22 GMT\r\n",
      "ETag: \"a7-54f6609245537\"\r\n",
      "Accept-Ranges: bytes\r\n",
      "Content-Length: 167\r\n",
      "Cache-Control: max-age=0, no-cache, no-store, must-revalidate\r\n",
      "Pragma: no-cache\r\n",
      "Expires: Wed, 11 Jan 1984 05:00:00 GMT\r\n",
      "Connection: close\r\n",
      "Content-Type: text/plain\r\n",
      "\r\n",
      "But soft what light through yonder window breaks\n",
      "It is the east and Juliet is the sun\n",
      "Arise fair sun and kill the envious moon\n",
      "Who is already sick and pale with grief\n"
     ]
    }
   ],
   "source": [
    "# a simple web browser\n",
    "mysock = socket.socket(socket.AF_INET, socket.SOCK_STREAM)\n",
    "mysock.connect(('data.pr4e.org', 80))\n",
    "cmd = 'GET http://data.pr4e.org/romeo.txt HTTP/1.0\\r\\n\\r\\n'.encode()\n",
    "mysock.send(cmd)\n",
    "\n",
    "while True:\n",
    "    data = mysock.recv(512)\n",
    "    if len(data) < 1:\n",
    "        break\n",
    "    print(data.decode(),end='')\n",
    "mysock.close()"
   ]
  },
  {
   "cell_type": "code",
   "execution_count": 9,
   "metadata": {},
   "outputs": [
    {
     "name": "stdout",
     "output_type": "stream",
     "text": [
      "65\n",
      "b'abc'\n"
     ]
    }
   ],
   "source": [
    "print(ord('A')) # print ascii number of 'A'\n",
    "\n",
    "# UTF-16 : Fixed length - two bytes\n",
    "# UTF-32 : Fixed length - four bytes\n",
    "# UTF-8  : 1-4 bytes, recommended practice for encoding data to be exchanged between systems\n",
    "# UTF-8 is a type of encoding do most website use.\n",
    "byte_x = b'abc'\n",
    "print(type(byte_x))"
   ]
  },
  {
   "cell_type": "code",
   "execution_count": 10,
   "metadata": {},
   "outputs": [
    {
     "name": "stdout",
     "output_type": "stream",
     "text": [
      "But soft what light through yonder window breaks\n",
      "It is the east and Juliet is the sun\n",
      "Arise fair sun and kill the envious moon\n",
      "Who is already sick and pale with grief\n"
     ]
    }
   ],
   "source": [
    "import urllib.request, urllib.parse, urllib.error\n",
    "\n",
    "# urllib does all the socket work for us and makes web pages look like a file\n",
    "fhand = urllib.request.urlopen('http://data.pr4e.org/romeo.txt')\n",
    "for line in fhand:\n",
    "    print(line.decode().strip())"
   ]
  },
  {
   "cell_type": "code",
   "execution_count": 11,
   "metadata": {},
   "outputs": [
    {
     "name": "stdout",
     "output_type": "stream",
     "text": [
      "{'But': 1, 'soft': 1, 'what': 1, 'light': 1, 'through': 1, 'yonder': 1, 'window': 1, 'breaks': 1, 'It': 1, 'is': 3, 'the': 3, 'east': 1, 'and': 3, 'Juliet': 1, 'sun': 2, 'Arise': 1, 'fair': 1, 'kill': 1, 'envious': 1, 'moon': 1, 'Who': 1, 'already': 1, 'sick': 1, 'pale': 1, 'with': 1, 'grief': 1}\n"
     ]
    }
   ],
   "source": [
    "fhand = urllib.request.urlopen('http://data.pr4e.org/romeo.txt')\n",
    "counts = dict()\n",
    "for line in fhand:\n",
    "    words = line.decode().split()\n",
    "    for word in words:\n",
    "        counts[word] = counts.get(word, 0) + 1\n",
    "print(counts)"
   ]
  },
  {
   "cell_type": "code",
   "execution_count": 12,
   "metadata": {},
   "outputs": [
    {
     "name": "stdout",
     "output_type": "stream",
     "text": [
      "<h1>The First Page</h1>\n",
      "<p>\n",
      "If you like, you can switch to the\n",
      "<a href=\"http://www.dr-chuck.com/page2.htm\">\n",
      "Second Page</a>.\n",
      "</p>\n"
     ]
    }
   ],
   "source": [
    "fhand = urllib.request.urlopen('http://www.dr-chuck.com/page1.htm')\n",
    "for line in fhand:\n",
    "    print(line.decode().strip())"
   ]
  },
  {
   "cell_type": "code",
   "execution_count": 13,
   "metadata": {},
   "outputs": [
    {
     "name": "stdout",
     "output_type": "stream",
     "text": [
      "But soft what light through yonder window breaks\n",
      "It is the east and Juliet is the sun\n",
      "Arise fair sun and kill the envious moon\n",
      "Who is already sick and pale with grief\n"
     ]
    }
   ],
   "source": [
    "fhand = urllib.request.urlopen('http://data.pr4e.org/romeo.txt')\n",
    "for line in fhand:\n",
    "    print(line.decode().strip())"
   ]
  },
  {
   "cell_type": "code",
   "execution_count": null,
   "metadata": {},
   "outputs": [],
   "source": [
    "# What is Web Scraping ?\n",
    "# When a program or script pretends to be a browser and retrieves web pages, \n",
    "# looks at those web pages, extracts information,\n",
    "# and then looks at more web pages\n",
    "\n",
    "# Search engines scrape web pages \n",
    "# we call this \"spidering the web\" or \"web crawling\"\n",
    "\n",
    "# Web Scraping -> The easy way - Beautiful Soap "
   ]
  },
  {
   "cell_type": "code",
   "execution_count": 15,
   "metadata": {},
   "outputs": [
    {
     "name": "stdout",
     "output_type": "stream",
     "text": [
      "Enter - http://www.dr-chuck.com/page1.htm\n",
      "http://www.dr-chuck.com/page2.htm\n"
     ]
    }
   ],
   "source": [
    "from bs4 import BeautifulSoup\n",
    "\n",
    "url = input('Enter - ') # http://www.dr-chuck.com/page1.htm\n",
    "html = urllib.request.urlopen(url).read()\n",
    "soup = BeautifulSoup(html, 'html.parser')\n",
    "\n",
    "tags = soup('a')\n",
    "for tag in tags:\n",
    "    print(tag.get('href', None))"
   ]
  },
  {
   "cell_type": "code",
   "execution_count": null,
   "metadata": {},
   "outputs": [],
   "source": [
    "# WEB SERVICES"
   ]
  }
 ],
 "metadata": {
  "kernelspec": {
   "display_name": "Python 3",
   "language": "python",
   "name": "python3"
  },
  "language_info": {
   "codemirror_mode": {
    "name": "ipython",
    "version": 3
   },
   "file_extension": ".py",
   "mimetype": "text/x-python",
   "name": "python",
   "nbconvert_exporter": "python",
   "pygments_lexer": "ipython3",
   "version": "3.8.5"
  }
 },
 "nbformat": 4,
 "nbformat_minor": 5
}
